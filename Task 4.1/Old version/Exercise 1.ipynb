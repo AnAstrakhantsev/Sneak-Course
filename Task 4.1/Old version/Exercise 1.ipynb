{
 "cells": [
  {
   "cell_type": "code",
   "execution_count": 253,
   "metadata": {},
   "outputs": [],
   "source": [
    "import pandas as pd"
   ]
  },
  {
   "cell_type": "code",
   "execution_count": 254,
   "metadata": {},
   "outputs": [],
   "source": [
    "PATH = 'C:/Users/En/Documents/Python/Py/'"
   ]
  },
  {
   "cell_type": "code",
   "execution_count": 255,
   "metadata": {},
   "outputs": [],
   "source": [
    "def years_path():\n",
    "    years_list = []\n",
    "    year = input('Пожалуйста, введите нужные года через запятую: ')\n",
    "    year = year.split(', ')\n",
    "    for y in year:\n",
    "        way = PATH + 'yob' + y + '.txt'\n",
    "        years_list.append(way)\n",
    "    return years_list"
   ]
  },
  {
   "cell_type": "code",
   "execution_count": 256,
   "metadata": {},
   "outputs": [],
   "source": [
    "def years_file(years_list):\n",
    "    years_file_list = []\n",
    "    for y in years_list:\n",
    "        year_data = pd.read_csv(y, names=['Name', 'Gender', 'Count'])\n",
    "        years_file_list.append(year_data)\n",
    "    return(years_file_list)"
   ]
  },
  {
   "cell_type": "code",
   "execution_count": 257,
   "metadata": {},
   "outputs": [],
   "source": [
    "def uni_years(years_list):\n",
    "    if len(years_list) == 1:\n",
    "        return years_list[0]\n",
    "    else:\n",
    "        for i in years_list[1:]:\n",
    "            years_list[0] = pd.merge(years_list[0], i, on=['Name', 'Gender'])\n",
    "            years_list[0]['Count'] = years_list[0]['Count_x'] + years_list[0]['Count_y']\n",
    "            del years_list[0]['Count_x']\n",
    "            del years_list[0]['Count_y']\n",
    "            return years_list[0]"
   ]
  },
  {
   "cell_type": "code",
   "execution_count": 258,
   "metadata": {},
   "outputs": [],
   "source": [
    "def top_three(dt):\n",
    "    dt = dt.sort_values(by=['Count'], ascending=False)\n",
    "    ndt = dt.head(3)\n",
    "    for n in ndt['Name']:\n",
    "        print(n)"
   ]
  },
  {
   "cell_type": "code",
   "execution_count": 259,
   "metadata": {},
   "outputs": [
    {
     "name": "stdout",
     "output_type": "stream",
     "text": [
      "Пожалуйста, введите нужные года через запятую: 2008, 2009, 2010\n",
      "Jacob\n",
      "Isabella\n",
      "Ethan\n"
     ]
    }
   ],
   "source": [
    "def main():\n",
    "    pt = years_path()\n",
    "    fl = years_file(pt)\n",
    "    ye = uni_years(fl)\n",
    "    top_three(ye)\n",
    "    \n",
    "main()"
   ]
  }
 ],
 "metadata": {
  "kernelspec": {
   "display_name": "Python 3",
   "language": "python",
   "name": "python3"
  },
  "language_info": {
   "codemirror_mode": {
    "name": "ipython",
    "version": 3
   },
   "file_extension": ".py",
   "mimetype": "text/x-python",
   "name": "python",
   "nbconvert_exporter": "python",
   "pygments_lexer": "ipython3",
   "version": "3.6.4"
  }
 },
 "nbformat": 4,
 "nbformat_minor": 2
}
