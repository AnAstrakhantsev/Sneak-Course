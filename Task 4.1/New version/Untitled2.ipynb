{
 "cells": [
  {
   "cell_type": "code",
   "execution_count": 9,
   "metadata": {},
   "outputs": [],
   "source": [
    "import pandas as pd"
   ]
  },
  {
   "cell_type": "code",
   "execution_count": 10,
   "metadata": {},
   "outputs": [],
   "source": [
    "PATH = 'C:/Users/En/Documents/Python/Py/'"
   ]
  },
  {
   "cell_type": "code",
   "execution_count": 11,
   "metadata": {},
   "outputs": [],
   "source": [
    "def years_path(years): # В отличии от первого упражнения, здесь используются словари для сохранения года\n",
    "    years_path_dict = {}\n",
    "    for y in years:\n",
    "        way = PATH + 'yob' + str(y) + '.txt'\n",
    "        years_path_dict[y] = way\n",
    "    return years_path_dict"
   ]
  },
  {
   "cell_type": "code",
   "execution_count": 12,
   "metadata": {},
   "outputs": [],
   "source": [
    "def years_file(years_path_dict):\n",
    "    years_file_dict = {}\n",
    "    for y in years_path_dict:\n",
    "        year_data = pd.read_csv(years_path_dict[y], names=['Name', 'Gender', 'Count'])\n",
    "        years_file_dict[y] = year_data\n",
    "    return(years_file_dict)"
   ]
  },
  {
   "cell_type": "code",
   "execution_count": 13,
   "metadata": {},
   "outputs": [],
   "source": [
    "def year_fix(years_file_dict): # Эта функция берет словарь \"Год: ДатаФрейм\",\n",
    "    years_gender_list = []\n",
    "    for y in years_file_dict:\n",
    "        f = years_file_dict[y]\n",
    "        te = 'Count_' + str(y) # включает номер года в название столба с числами,\n",
    "        f[te] = f['Count']\n",
    "        del f['Count']\n",
    "        years_gender_list.append(f)\n",
    "    return  years_gender_list # и возвращает список с новыми ДатаФреймами"
   ]
  },
  {
   "cell_type": "code",
   "execution_count": 14,
   "metadata": {},
   "outputs": [],
   "source": [
    "def year_gender(years_gender_list): # Эта функцтя получает список ДатаФреймов\n",
    "    y_gender = pd.concat(years_gender_list, axis=0) # объединяет его методом concat\n",
    "    print(y_gender.groupby('Gender').sum()) # и выводит группировку по гендеру"
   ]
  },
  {
   "cell_type": "code",
   "execution_count": 15,
   "metadata": {},
   "outputs": [],
   "source": [
    "def main(*years):\n",
    "    pt = years_path(years)\n",
    "    fl = years_file(pt)\n",
    "    yg = year_fix(fl)\n",
    "    year_gender(yg)"
   ]
  },
  {
   "cell_type": "code",
   "execution_count": 16,
   "metadata": {},
   "outputs": [
    {
     "name": "stdout",
     "output_type": "stream",
     "text": [
      "        Count_1900  Count_1950  Count_2000\n",
      "Gender                                    \n",
      "F         299810.0   1713259.0   1814922.0\n",
      "M         150486.0   1790871.0   1962744.0\n"
     ]
    }
   ],
   "source": [
    "main(1900, 1950, 2000)"
   ]
  }
 ],
 "metadata": {
  "kernelspec": {
   "display_name": "Python 3",
   "language": "python",
   "name": "python3"
  },
  "language_info": {
   "codemirror_mode": {
    "name": "ipython",
    "version": 3
   },
   "file_extension": ".py",
   "mimetype": "text/x-python",
   "name": "python",
   "nbconvert_exporter": "python",
   "pygments_lexer": "ipython3",
   "version": "3.6.4"
  }
 },
 "nbformat": 4,
 "nbformat_minor": 2
}
