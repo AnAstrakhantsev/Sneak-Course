{
 "cells": [
  {
   "cell_type": "code",
   "execution_count": 1,
   "metadata": {},
   "outputs": [],
   "source": [
    "import pandas as pd"
   ]
  },
  {
   "cell_type": "code",
   "execution_count": 2,
   "metadata": {},
   "outputs": [],
   "source": [
    "PATH = 'C:/Users/En/Documents/Python/Py/'"
   ]
  },
  {
   "cell_type": "code",
   "execution_count": 3,
   "metadata": {},
   "outputs": [],
   "source": [
    "def years_path(years): # Эта функция принимает список годов и трансформирует их в список ссылок на файлы\n",
    "    years_path_list = []\n",
    "    for y in years:\n",
    "        way = PATH + 'yob' + str(y) + '.txt'\n",
    "        years_path_list.append(way)\n",
    "    return years_path_list"
   ]
  },
  {
   "cell_type": "code",
   "execution_count": 4,
   "metadata": {},
   "outputs": [],
   "source": [
    "def years_file(years_path_list): # Эта функция принимает список ссылок на файлы и считывает с них файлы\n",
    "    years_file_list = []\n",
    "    for y in years_path_list:\n",
    "        year_data = pd.read_csv(y, names=['Name', 'Gender', 'Count'])\n",
    "        years_file_list.append(year_data)\n",
    "    return(years_file_list)"
   ]
  },
  {
   "cell_type": "code",
   "execution_count": 5,
   "metadata": {},
   "outputs": [],
   "source": [
    "def uni_years(years_list): # Эта функция принимает список файлов и объединяет их методом merge\n",
    "    if len(years_list) == 1:\n",
    "        return years_list[0]\n",
    "    else:\n",
    "        for i in years_list[1:]:\n",
    "            years_list[0] = pd.merge(years_list[0], i, on=['Name', 'Gender'])\n",
    "            years_list[0]['Count'] = years_list[0]['Count_x'] + years_list[0]['Count_y']\n",
    "            del years_list[0]['Count_x']\n",
    "            del years_list[0]['Count_y']\n",
    "            return years_list[0]"
   ]
  },
  {
   "cell_type": "code",
   "execution_count": 6,
   "metadata": {},
   "outputs": [],
   "source": [
    "def top_three(dt): # Эта функция принимает файл с именами, сортирует по убыванию и показывает первые 3 имени\n",
    "    dt = dt.sort_values(by=['Count'], ascending=False)\n",
    "    ndt = dt.head(3)\n",
    "    for n in ndt['Name']:\n",
    "        print(n)"
   ]
  },
  {
   "cell_type": "code",
   "execution_count": 7,
   "metadata": {},
   "outputs": [],
   "source": [
    "def main(*years):\n",
    "    pt = years_path(years)\n",
    "    fl = years_file(pt)\n",
    "    ye = uni_years(fl)\n",
    "    top_three(ye)"
   ]
  },
  {
   "cell_type": "code",
   "execution_count": 8,
   "metadata": {},
   "outputs": [
    {
     "name": "stdout",
     "output_type": "stream",
     "text": [
      "James\n",
      "John\n",
      "Robert\n"
     ]
    }
   ],
   "source": [
    "main(1900, 1950, 2000)"
   ]
  }
 ],
 "metadata": {
  "kernelspec": {
   "display_name": "Python 3",
   "language": "python",
   "name": "python3"
  },
  "language_info": {
   "codemirror_mode": {
    "name": "ipython",
    "version": 3
   },
   "file_extension": ".py",
   "mimetype": "text/x-python",
   "name": "python",
   "nbconvert_exporter": "python",
   "pygments_lexer": "ipython3",
   "version": "3.6.4"
  }
 },
 "nbformat": 4,
 "nbformat_minor": 2
}
