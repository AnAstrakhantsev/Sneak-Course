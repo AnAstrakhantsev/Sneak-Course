{
 "cells": [
  {
   "cell_type": "code",
   "execution_count": 1,
   "metadata": {},
   "outputs": [],
   "source": [
    "import pandas as pd"
   ]
  },
  {
   "cell_type": "code",
   "execution_count": 2,
   "metadata": {},
   "outputs": [],
   "source": [
    "PATH = 'C:/Users/En/Documents/Python/Py/'"
   ]
  },
  {
   "cell_type": "code",
   "execution_count": 3,
   "metadata": {},
   "outputs": [],
   "source": [
    "def years_path():\n",
    "    years_dict = {}\n",
    "    year = input('Пожалуйста, введите нужные года через запятую: ')\n",
    "    year = year.split(', ')\n",
    "    for y in year:\n",
    "        way = PATH + 'yob' + y + '.txt'\n",
    "        years_dict[y] = way\n",
    "    return years_dict"
   ]
  },
  {
   "cell_type": "code",
   "execution_count": 4,
   "metadata": {},
   "outputs": [],
   "source": [
    "def years_file(years_dict):\n",
    "    years_file_dict = {}\n",
    "    for y in years_dict:\n",
    "        year_data = pd.read_csv(years_dict[y], names=['Name', 'Gender', 'Count'])\n",
    "        years_file_dict[y] = year_data\n",
    "    return(years_file_dict)"
   ]
  },
  {
   "cell_type": "code",
   "execution_count": 5,
   "metadata": {},
   "outputs": [],
   "source": [
    "def year_fix(years_file_dict):\n",
    "    years_gender_list = []\n",
    "    for y in years_file_dict:\n",
    "        f = years_file_dict[y]\n",
    "        te = 'Count_' + y\n",
    "        f[te] = f['Count']\n",
    "        del f['Count']\n",
    "        years_gender_list.append(f)\n",
    "    return  years_gender_list"
   ]
  },
  {
   "cell_type": "code",
   "execution_count": 6,
   "metadata": {},
   "outputs": [],
   "source": [
    "def year_gender(years_gender_list):\n",
    "    y_gender = pd.concat(years_gender_list, axis=0)\n",
    "    print('\\n', y_gender.groupby('Gender').sum())"
   ]
  },
  {
   "cell_type": "code",
   "execution_count": 7,
   "metadata": {},
   "outputs": [
    {
     "name": "stdout",
     "output_type": "stream",
     "text": [
      "Пожалуйста, введите нужные года через запятую: 1900, 1950, 2000\n",
      "\n",
      "         Count_1900  Count_1950  Count_2000\n",
      "Gender                                    \n",
      "F         299810.0   1713259.0   1814922.0\n",
      "M         150486.0   1790871.0   1962744.0\n"
     ]
    }
   ],
   "source": [
    "def main():\n",
    "    pt = years_path()\n",
    "    fl = years_file(pt)\n",
    "    yg = year_fix(fl)\n",
    "    year_gender(yg)\n",
    "    \n",
    "main()"
   ]
  }
 ],
 "metadata": {
  "kernelspec": {
   "display_name": "Python 3",
   "language": "python",
   "name": "python3"
  },
  "language_info": {
   "codemirror_mode": {
    "name": "ipython",
    "version": 3
   },
   "file_extension": ".py",
   "mimetype": "text/x-python",
   "name": "python",
   "nbconvert_exporter": "python",
   "pygments_lexer": "ipython3",
   "version": "3.6.4"
  }
 },
 "nbformat": 4,
 "nbformat_minor": 2
}
